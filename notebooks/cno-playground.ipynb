{
 "cells": [
  {
   "cell_type": "code",
   "execution_count": null,
   "id": "3f81c597",
   "metadata": {},
   "outputs": [],
   "source": [
    "import torch\n",
    "from torch import nn\n",
    "from torch.utils.data import DataLoader, Subset\n",
    "import torch.nn.functional as F\n",
    "from matplotlib import pyplot as plt\n",
    "import pathlib\n",
    "\n",
    "import acoustic_no.cno.cno_layers as cno_layers\n",
    "from acoustic_no.cno.cno_model import CNOModel\n",
    "from acoustic_no.data import ShuffledAcousticDataset"
   ]
  },
  {
   "cell_type": "code",
   "execution_count": null,
   "id": "fffb2e01",
   "metadata": {},
   "outputs": [],
   "source": [
    "# Setup device\n",
    "if torch.cuda.is_available():\n",
    "    device = torch.device(\"cuda\")\n",
    "elif torch.backends.mps.is_available():\n",
    "    device = torch.device(\"mps\")\n",
    "else:\n",
    "    device = torch.device(\"cpu\")\n",
    "print(f\"Using device: {device}\")"
   ]
  },
  {
   "cell_type": "code",
   "execution_count": null,
   "id": "61496ccd",
   "metadata": {},
   "outputs": [],
   "source": [
    "cno_activation = cno_layers.ActivationLayer(\"relu\")"
   ]
  },
  {
   "cell_type": "code",
   "execution_count": null,
   "id": "ac731b6b",
   "metadata": {},
   "outputs": [],
   "source": [
    "x = torch.randn(1, 3, 32, 32, device=device)  # Create a random input tensor\n",
    "# Clamp the input to the range [0, 1]\n",
    "x = torch.clamp(x, 0, 1)\n",
    "x_cno = cno_activation(x)  # Apply the activation layer\n",
    "x_base = F.relu(x)  # Apply the base activation function\n",
    "# Show the difference\n",
    "fig, ax = plt.subplots(1, 3, figsize=(10, 5))\n",
    "ax[0].imshow(x[0].cpu().detach().numpy().transpose(1, 2, 0))  # Convert to numpy and transpose for plotting\n",
    "ax[0].set_title(\"Input Image\")\n",
    "ax[1].imshow(x_cno[0].cpu().detach().numpy().transpose(1, 2, 0))  # Convert to numpy and transpose for plotting\n",
    "ax[1].set_title(\"CNO Activation\")\n",
    "ax[2].imshow(x_base[0].cpu().detach().numpy().transpose(1, 2, 0))  # Convert to numpy and transpose for plotting\n",
    "ax[2].set_title(\"Base Activation (ReLU)\")\n",
    "plt.show()  # Display the images"
   ]
  },
  {
   "cell_type": "markdown",
   "id": "60a87faa",
   "metadata": {},
   "source": [
    "# Load Dataset"
   ]
  },
  {
   "cell_type": "code",
   "execution_count": null,
   "id": "4a31a220",
   "metadata": {},
   "outputs": [],
   "source": [
    "# Load the dataset\n",
    "dataset = ShuffledAcousticDataset(\n",
    "    dataset_dir=pathlib.Path(\"../resources/dataset/processed/training\"),\n",
    ")\n",
    "print(f\"Dataset size: {len(dataset)}\")"
   ]
  },
  {
   "cell_type": "code",
   "execution_count": null,
   "id": "8d204627",
   "metadata": {},
   "outputs": [],
   "source": [
    "# Split the dataset into training and validation sets\n",
    "train_size = int(0.8 * len(dataset))\n",
    "train_dataset = Subset(dataset, range(train_size))\n",
    "val_dataset = Subset(dataset, range(train_size, len(dataset)))\n",
    "# Use a random subset of the dataset for training\n",
    "N_TRAIN, N_VAL = 1024, 16\n",
    "train_dataset = Subset(train_dataset, range(N_TRAIN))\n",
    "val_dataset = Subset(val_dataset, range(N_VAL))\n",
    "# Create a data loader\n",
    "train_loader = DataLoader(\n",
    "    train_dataset,\n",
    "    batch_size=4,\n",
    "    shuffle=False,\n",
    "    num_workers=10,\n",
    ")\n",
    "val_loader = DataLoader(\n",
    "    val_dataset,\n",
    "    batch_size=4,\n",
    "    shuffle=False,\n",
    "    num_workers=10,\n",
    ")"
   ]
  },
  {
   "cell_type": "markdown",
   "id": "5fd8d018",
   "metadata": {},
   "source": [
    "# A Simple CNO Model"
   ]
  },
  {
   "cell_type": "code",
   "execution_count": null,
   "id": "d607cb39",
   "metadata": {},
   "outputs": [],
   "source": [
    "model = CNOModel(\n",
    "    input_channels=193,\n",
    "    hidden_channels=[64, 64],\n",
    "    layer_sizes=[2, 2],\n",
    "    output_channels=64\n",
    ")\n",
    "model.to(device)  # Move the model to the appropriate device\n",
    "model"
   ]
  },
  {
   "cell_type": "code",
   "execution_count": null,
   "id": "9a55c9f1",
   "metadata": {},
   "outputs": [],
   "source": [
    "# Initialize training parameters\n",
    "num_epochs = 8\n",
    "learning_rate = 0.001\n",
    "criterion = nn.MSELoss()  # Use Mean Squared Error loss\n",
    "optimizer = torch.optim.Adam(model.parameters(), lr=learning_rate)\n",
    "# Training loop\n",
    "for epoch in range(num_epochs):\n",
    "    model.train()  # Set the model to training mode\n",
    "    running_loss = 0.0\n",
    "    for i, batch in enumerate(train_loader):\n",
    "        inputs, targets = batch[\"x\"], batch[\"y\"]  # Get inputs and targets from the batch\n",
    "        inputs, targets = inputs.to(device), targets.to(device)  # Move data to device\n",
    "        optimizer.zero_grad()  # Zero the gradients\n",
    "        outputs = model(inputs)  # Forward pass\n",
    "        loss = criterion(outputs, targets)  # Compute loss\n",
    "        loss.backward()  # Backward pass\n",
    "        optimizer.step()  # Update weights\n",
    "        running_loss += loss.item()\n",
    "        \n",
    "        if (i + 1) % 10 == 0:  # Print every 10 batches\n",
    "            print(f\"Epoch [{epoch + 1}/{num_epochs}], Step [{i + 1}/{len(train_loader)}], Loss: {running_loss / (i + 1):.4f}\")\n",
    "\n",
    "    print(f\"Epoch [{epoch + 1}/{num_epochs}], Average Loss: {running_loss / len(train_loader):.4f}\")"
   ]
  },
  {
   "cell_type": "code",
   "execution_count": null,
   "id": "19bf16f6",
   "metadata": {},
   "outputs": [],
   "source": [
    "# Inference\n",
    "model.eval()\n",
    "eval_data = val_dataset[0]\n",
    "x = eval_data[\"x\"]\n",
    "p = eval_data[\"y\"]\n",
    "v = eval_data[\"v\"]\n",
    "a = eval_data[\"a\"]\n",
    "with torch.no_grad():\n",
    "    pred = model(x.unsqueeze(0).to(device))\n",
    "\n",
    "# Plot the results\n",
    "fig, ax = plt.subplots(1, 3, figsize=(12, 6))\n",
    "ax[0].imshow(pred[0, -1].cpu().numpy(), cmap='viridis', vmin=-10, vmax=10)\n",
    "ax[0].set_title(\"Predicted Pressure\")\n",
    "ax[1].imshow(p[-1].cpu().numpy(), cmap='viridis', vmin=-10, vmax=10)\n",
    "ax[1].set_title(\"Ground Truth Pressure\")\n",
    "ax[2].imshow(pred[0, -1].cpu().numpy() - p[-1].cpu().numpy(), cmap='viridis', vmin=-10, vmax=10)\n",
    "ax[2].set_title(\"Difference\")\n",
    "plt.tight_layout()\n",
    "plt.show()\n"
   ]
  }
 ],
 "metadata": {
  "kernelspec": {
   "display_name": ".venv",
   "language": "python",
   "name": "python3"
  },
  "language_info": {
   "codemirror_mode": {
    "name": "ipython",
    "version": 3
   },
   "file_extension": ".py",
   "mimetype": "text/x-python",
   "name": "python",
   "nbconvert_exporter": "python",
   "pygments_lexer": "ipython3",
   "version": "3.12.9"
  }
 },
 "nbformat": 4,
 "nbformat_minor": 5
}
