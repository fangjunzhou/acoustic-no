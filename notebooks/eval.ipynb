{
 "cells": [
  {
   "cell_type": "code",
   "execution_count": 1,
   "id": "8d816a71",
   "metadata": {},
   "outputs": [],
   "source": [
    "from neuralop.models import FNO\n",
    "import torch\n",
    "import pathlib\n",
    "\n",
    "from acoustic_no.data import AcousticDataset\n",
    "from acoustic_no.cno.cno_model import CNOModel\n",
    "from acoustic_no.utils.eval import evaluate_models\n"
   ]
  },
  {
   "cell_type": "code",
   "execution_count": 2,
   "id": "d89353b8",
   "metadata": {},
   "outputs": [
    {
     "name": "stdout",
     "output_type": "stream",
     "text": [
      "Using device: cuda\n",
      "Dataset size: 8757\n",
      "Dataset depth: 64\n"
     ]
    }
   ],
   "source": [
    "# Use the GPU if available\n",
    "device = torch.device(\"cuda\" if torch.cuda.is_available() else \"cpu\")\n",
    "print(f\"Using device: {device}\")\n",
    "\n",
    "# Load the dataset\n",
    "dataset = AcousticDataset(\n",
    "    data_dir=pathlib.Path(\"../resources/small_dataset/testing\"),\n",
    "    depth=64\n",
    ")\n",
    "print(f\"Dataset size: {len(dataset)}\")\n",
    "\n",
    "depth = dataset.depth\n",
    "print(f\"Dataset depth: {depth}\")\n"
   ]
  },
  {
   "cell_type": "code",
   "execution_count": 3,
   "id": "a841ed06",
   "metadata": {},
   "outputs": [],
   "source": [
    "fno = FNO(\n",
    "    n_modes=(16, 16),\n",
    "    in_channels=depth * 3 + 1,\n",
    "    out_channels=depth,\n",
    "    n_layers=8,\n",
    "    hidden_channels=128,\n",
    "    projection_channel_ratio=2,\n",
    ")\n",
    "fno.load_state_dict(\n",
    "    torch.load(\n",
    "        \"../resources/models/fno_baseline/best_model_state_dict.pt\",\n",
    "        map_location=device,\n",
    "        weights_only=False\n",
    "    )\n",
    ")\n",
    "fno.to(device)\n",
    "\n",
    "tfno = FNO(\n",
    "    n_modes=(16, 16),\n",
    "    in_channels=depth * 3 + 1,\n",
    "    out_channels=depth,\n",
    "    n_layers=8,\n",
    "    hidden_channels=128,\n",
    "    projection_channel_ratio=2,\n",
    "    factorization=\"Tucker\"\n",
    ")\n",
    "tfno.load_state_dict(\n",
    "    torch.load(\n",
    "        \"../resources/models/tfno/best_model_state_dict.pt\",\n",
    "        map_location=device,\n",
    "        weights_only=False\n",
    "    )\n",
    ")\n",
    "tfno.to(device)\n",
    "\n",
    "cno = CNOModel(\n",
    "    input_channels=depth * 3 + 1,\n",
    "    hidden_channels=[128, 128, 256],\n",
    "    layer_sizes=[3, 3, 4],\n",
    "    output_channels=depth\n",
    ")\n",
    "cno.load_state_dict(\n",
    "    torch.load(\n",
    "        \"../resources/models/cno/best_model.pth\",\n",
    "        map_location=device\n",
    "    )\n",
    ")\n",
    "cno.to(device)\n",
    "\n",
    "pass\n"
   ]
  },
  {
   "cell_type": "code",
   "execution_count": 4,
   "id": "2c61c404",
   "metadata": {},
   "outputs": [
    {
     "name": "stderr",
     "output_type": "stream",
     "text": [
      "Evaluating: 100%|██████████| 8757/8757 [04:30<00:00, 32.35sample/s]"
     ]
    },
    {
     "name": "stdout",
     "output_type": "stream",
     "text": [
      "----------------------------------------\n",
      "Average results for model 'FNO':\n",
      "  MSE:     13.932867\n",
      "  L2 Loss: 49.230886\n",
      "  H1 Loss: 51.069296\n",
      "----------------------------------------\n",
      "Average results for model 'TFNO':\n",
      "  MSE:     18.452117\n",
      "  L2 Loss: 52.055132\n",
      "  H1 Loss: 54.566852\n",
      "----------------------------------------\n",
      "Average results for model 'CNO':\n",
      "  MSE:     1.980019\n",
      "  L2 Loss: 20.405886\n",
      "  H1 Loss: 21.855785\n"
     ]
    },
    {
     "name": "stderr",
     "output_type": "stream",
     "text": [
      "\n"
     ]
    }
   ],
   "source": [
    "models = {\n",
    "    \"FNO\": fno,\n",
    "    \"TFNO\": tfno,\n",
    "    \"CNO\": cno\n",
    "}\n",
    "\n",
    "results = evaluate_models(models, dataset, device)\n"
   ]
  }
 ],
 "metadata": {
  "kernelspec": {
   "display_name": ".venv",
   "language": "python",
   "name": "python3"
  },
  "language_info": {
   "codemirror_mode": {
    "name": "ipython",
    "version": 3
   },
   "file_extension": ".py",
   "mimetype": "text/x-python",
   "name": "python",
   "nbconvert_exporter": "python",
   "pygments_lexer": "ipython3",
   "version": "3.12.6"
  }
 },
 "nbformat": 4,
 "nbformat_minor": 5
}
