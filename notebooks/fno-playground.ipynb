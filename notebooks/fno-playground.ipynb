{
 "cells": [
  {
   "cell_type": "code",
   "execution_count": 1,
   "id": "377f29bc",
   "metadata": {},
   "outputs": [],
   "source": [
    "import torch\n",
    "import matplotlib.pyplot as plt\n",
    "import sys\n",
    "from neuralop.models import FNO\n",
    "from neuralop.data.datasets import load_darcy_flow_small\n",
    "from neuralop.utils import count_model_params\n",
    "from neuralop.training import AdamW\n",
    "from neuralop.training.incremental import IncrementalFNOTrainer\n",
    "from neuralop.data.transforms.data_processors import IncrementalDataProcessor\n",
    "from neuralop import LpLoss, H1Loss"
   ]
  },
  {
   "cell_type": "code",
   "execution_count": 2,
   "id": "22c8270d",
   "metadata": {},
   "outputs": [
    {
     "name": "stdout",
     "output_type": "stream",
     "text": [
      "Using device: cpu\n"
     ]
    }
   ],
   "source": [
    "# Use GPU if available\n",
    "if torch.cuda.is_available():\n",
    "    device = torch.device(\"cuda\")\n",
    "else:\n",
    "    device = torch.device(\"cpu\")\n",
    "print(f\"Using device: {device}\")"
   ]
  },
  {
   "cell_type": "code",
   "execution_count": 3,
   "id": "bccc2bfd",
   "metadata": {},
   "outputs": [],
   "source": [
    "from torch.utils.data import DataLoader\n",
    "from neuralop.utils import get_project_root\n",
    "from neuralop.data.datasets import DarcyDataset\n",
    "\n",
    "example_data_root = get_project_root() / \"neuralop/data/datasets/data\"\n",
    "\n",
    "def fake_load_darcy_flow_small(n_train,\n",
    "                               n_tests,\n",
    "                               batch_size,\n",
    "                               test_batch_sizes,\n",
    "                               data_root=example_data_root,\n",
    "                               test_resolutions=[16, 32],\n",
    "                               encode_input=False,\n",
    "                               encode_output=True,\n",
    "                               encoding=\"channel-wise\",\n",
    "                               channel_dim=1, ):\n",
    "    dataset = DarcyDataset(root_dir=data_root,\n",
    "                           n_train=n_train,\n",
    "                           n_tests=n_tests,\n",
    "                           batch_size=batch_size,\n",
    "                           test_batch_sizes=test_batch_sizes,\n",
    "                           train_resolution=16,\n",
    "                           test_resolutions=test_resolutions,\n",
    "                           encode_input=encode_input,\n",
    "                           encode_output=encode_output,\n",
    "                           channel_dim=channel_dim,\n",
    "                           encoding=encoding,\n",
    "                           download=True)\n",
    "\n",
    "    # return dataloaders for backwards compat\n",
    "    train_loader = DataLoader(dataset.train_db,\n",
    "                              batch_size=batch_size,\n",
    "                              num_workers=0,\n",
    "                              pin_memory=True,\n",
    "                              persistent_workers=False, )\n",
    "\n",
    "    test_loaders = {}\n",
    "    for res, test_bsize in zip(test_resolutions, test_batch_sizes):\n",
    "        test_loaders[res] = DataLoader(dataset.test_dbs[res],\n",
    "                                       batch_size=test_bsize,\n",
    "                                       shuffle=False,\n",
    "                                       num_workers=0,\n",
    "                                       pin_memory=True,\n",
    "                                       persistent_workers=False, )\n",
    "\n",
    "    return train_loader, test_loaders, dataset.data_processor"
   ]
  },
  {
   "cell_type": "code",
   "execution_count": 4,
   "id": "6b6439cb",
   "metadata": {},
   "outputs": [
    {
     "name": "stdout",
     "output_type": "stream",
     "text": [
      "Loading test db for resolution 16 with 100 samples \n",
      "Loading test db for resolution 32 with 50 samples \n"
     ]
    }
   ],
   "source": [
    "train_loader, test_loaders, output_encoder = fake_load_darcy_flow_small(\n",
    "    n_train=100,\n",
    "    batch_size=16,\n",
    "    test_resolutions=[16, 32],\n",
    "    n_tests=[100, 50],\n",
    "    test_batch_sizes=[32, 32],\n",
    ")"
   ]
  },
  {
   "cell_type": "code",
   "execution_count": 5,
   "id": "deeb2258",
   "metadata": {},
   "outputs": [],
   "source": [
    "model = FNO(\n",
    "    max_n_modes=(16, 16),\n",
    "    n_modes=(2, 2),\n",
    "    hidden_channels=32,\n",
    "    in_channels=1,\n",
    "    out_channels=1,\n",
    ")\n",
    "model = model.to(device)\n",
    "n_params = count_model_params(model)"
   ]
  },
  {
   "cell_type": "code",
   "execution_count": 6,
   "id": "f1577baa",
   "metadata": {},
   "outputs": [
    {
     "name": "stdout",
     "output_type": "stream",
     "text": [
      "Original Incre Res: change index to 0\n",
      "Original Incre Res: change sub to 2\n",
      "Original Incre Res: change res to 8\n"
     ]
    }
   ],
   "source": [
    "optimizer = AdamW(model.parameters(), lr=8e-3, weight_decay=1e-4)\n",
    "scheduler = torch.optim.lr_scheduler.CosineAnnealingLR(optimizer, T_max=30)\n",
    "\n",
    "\n",
    "# If one wants to use Incremental Resolution, one should use the IncrementalDataProcessor - When passed to the trainer, the trainer will automatically update the resolution\n",
    "# Incremental_resolution : bool, default is False\n",
    "#    if True, increase the resolution of the input incrementally\n",
    "#    uses the incremental_res_gap parameter\n",
    "#    uses the subsampling_rates parameter - a list of resolutions to use\n",
    "#    uses the dataset_indices parameter - a list of indices of the dataset to slice to regularize the input resolution\n",
    "#    uses the dataset_resolution parameter - the resolution of the input\n",
    "#    uses the epoch_gap parameter - the number of epochs to wait before increasing the resolution\n",
    "#    uses the verbose parameter - if True, print the resolution and the number of modes\n",
    "data_transform = IncrementalDataProcessor(\n",
    "    in_normalizer=None,\n",
    "    out_normalizer=None,\n",
    "    device=device,\n",
    "    subsampling_rates=[2, 1],\n",
    "    dataset_resolution=16,\n",
    "    dataset_indices=[2, 3],\n",
    "    epoch_gap=10,\n",
    "    verbose=True,\n",
    ")\n",
    "\n",
    "data_transform = data_transform.to(device)"
   ]
  },
  {
   "cell_type": "code",
   "execution_count": 7,
   "id": "9eaaf940",
   "metadata": {},
   "outputs": [
    {
     "name": "stdout",
     "output_type": "stream",
     "text": [
      "\n",
      "### N PARAMS ###\n",
      " 2110305\n",
      "\n",
      "### OPTIMIZER ###\n",
      " AdamW (\n",
      "Parameter Group 0\n",
      "    betas: (0.9, 0.999)\n",
      "    correct_bias: True\n",
      "    eps: 1e-06\n",
      "    initial_lr: 0.008\n",
      "    lr: 0.008\n",
      "    weight_decay: 0.0001\n",
      ")\n",
      "\n",
      "### SCHEDULER ###\n",
      " <torch.optim.lr_scheduler.CosineAnnealingLR object at 0x13f283ef0>\n",
      "\n",
      "### LOSSES ###\n",
      "\n",
      "### INCREMENTAL RESOLUTION + GRADIENT EXPLAINED ###\n",
      "\n",
      " * Train: <neuralop.losses.data_losses.H1Loss object at 0x13e657230>\n",
      "\n",
      " * Test: {'h1': <neuralop.losses.data_losses.H1Loss object at 0x13e657230>, 'l2': <neuralop.losses.data_losses.LpLoss object at 0x13d68da30>}\n"
     ]
    }
   ],
   "source": [
    "l2loss = LpLoss(d=2, p=2)\n",
    "h1loss = H1Loss(d=2)\n",
    "train_loss = h1loss\n",
    "eval_losses = {\"h1\": h1loss, \"l2\": l2loss}\n",
    "print(\"\\n### N PARAMS ###\\n\", n_params)\n",
    "print(\"\\n### OPTIMIZER ###\\n\", optimizer)\n",
    "print(\"\\n### SCHEDULER ###\\n\", scheduler)\n",
    "print(\"\\n### LOSSES ###\")\n",
    "print(\"\\n### INCREMENTAL RESOLUTION + GRADIENT EXPLAINED ###\")\n",
    "print(f\"\\n * Train: {train_loss}\")\n",
    "print(f\"\\n * Test: {eval_losses}\")\n",
    "sys.stdout.flush()"
   ]
  },
  {
   "cell_type": "code",
   "execution_count": 8,
   "id": "a6e025be",
   "metadata": {},
   "outputs": [
    {
     "name": "stdout",
     "output_type": "stream",
     "text": [
      "Training on 100 samples\n",
      "Testing on [50, 50] samples         on resolutions [16, 32].\n",
      "Raw outputs of shape torch.Size([16, 1, 8, 8])\n",
      "[0] time=0.22, avg_loss=0.9309, train_err=13.2987\n"
     ]
    },
    {
     "name": "stderr",
     "output_type": "stream",
     "text": [
      "/Users/fangjun/Documents/stanford/acoustic-no/.venv/lib/python3.12/site-packages/torch/utils/data/dataloader.py:683: UserWarning: 'pin_memory' argument is set as true but not supported on MPS now, then device pinned memory won't be used.\n",
      "  warnings.warn(warn_msg)\n"
     ]
    },
    {
     "name": "stdout",
     "output_type": "stream",
     "text": [
      "Eval: 16_h1=0.8880, 16_l2=0.6512, 32_h1=0.9212, 32_l2=0.6529\n",
      "[1] time=0.20, avg_loss=0.7841, train_err=11.2012\n",
      "Eval: 16_h1=0.8061, 16_l2=0.5755, 32_h1=0.9186, 32_l2=0.5769\n",
      "[2] time=0.19, avg_loss=0.6862, train_err=9.8025\n",
      "Eval: 16_h1=0.7630, 16_l2=0.4417, 32_h1=0.8810, 32_l2=0.4611\n",
      "[3] time=0.18, avg_loss=0.6085, train_err=8.6924\n",
      "Eval: 16_h1=0.7075, 16_l2=0.3756, 32_h1=0.9002, 32_l2=0.3984\n",
      "[4] time=0.18, avg_loss=0.5492, train_err=7.8459\n",
      "Eval: 16_h1=0.7810, 16_l2=0.4181, 32_h1=1.1075, 32_l2=0.4603\n",
      "[5] time=0.19, avg_loss=0.5102, train_err=7.2881\n",
      "Eval: 16_h1=0.7520, 16_l2=0.4026, 32_h1=1.0766, 32_l2=0.4511\n",
      "[6] time=0.19, avg_loss=0.4573, train_err=6.5322\n",
      "Eval: 16_h1=0.6242, 16_l2=0.3374, 32_h1=0.8883, 32_l2=0.3803\n",
      "[7] time=0.19, avg_loss=0.4168, train_err=5.9538\n",
      "Eval: 16_h1=0.5825, 16_l2=0.3224, 32_h1=0.8010, 32_l2=0.3501\n",
      "[8] time=0.21, avg_loss=0.3825, train_err=5.4645\n",
      "Eval: 16_h1=0.6723, 16_l2=0.3926, 32_h1=0.9990, 32_l2=0.4398\n",
      "[9] time=0.19, avg_loss=0.3764, train_err=5.3765\n",
      "Eval: 16_h1=0.5964, 16_l2=0.3048, 32_h1=0.8826, 32_l2=0.3452\n",
      "Incre Res Update: change index to 1\n",
      "Incre Res Update: change sub to 1\n",
      "Incre Res Update: change res to 16\n",
      "[10] time=0.44, avg_loss=0.5114, train_err=7.3059\n",
      "Eval: 16_h1=0.5977, 16_l2=0.3757, 32_h1=0.7327, 32_l2=0.3673\n",
      "[11] time=0.46, avg_loss=0.4912, train_err=7.0174\n",
      "Eval: 16_h1=0.4714, 16_l2=0.2705, 32_h1=0.6494, 32_l2=0.2872\n",
      "[12] time=0.43, avg_loss=0.4327, train_err=6.1812\n",
      "Eval: 16_h1=0.3970, 16_l2=0.2399, 32_h1=0.5323, 32_l2=0.2492\n",
      "[13] time=0.44, avg_loss=0.3651, train_err=5.2159\n",
      "Eval: 16_h1=0.3918, 16_l2=0.2472, 32_h1=0.5217, 32_l2=0.2604\n",
      "[14] time=0.46, avg_loss=0.3372, train_err=4.8172\n",
      "Eval: 16_h1=0.3661, 16_l2=0.2255, 32_h1=0.4923, 32_l2=0.2374\n",
      "[15] time=0.45, avg_loss=0.3189, train_err=4.5560\n",
      "Eval: 16_h1=0.3479, 16_l2=0.2176, 32_h1=0.4951, 32_l2=0.2323\n",
      "[16] time=0.43, avg_loss=0.2985, train_err=4.2650\n",
      "Eval: 16_h1=0.3403, 16_l2=0.2107, 32_h1=0.4964, 32_l2=0.2257\n",
      "[17] time=0.45, avg_loss=0.2929, train_err=4.1846\n",
      "Eval: 16_h1=0.3514, 16_l2=0.2155, 32_h1=0.5162, 32_l2=0.2298\n",
      "[18] time=0.44, avg_loss=0.2912, train_err=4.1599\n",
      "Eval: 16_h1=0.3184, 16_l2=0.2005, 32_h1=0.4710, 32_l2=0.2152\n",
      "[19] time=0.44, avg_loss=0.2726, train_err=3.8937\n",
      "Eval: 16_h1=0.3136, 16_l2=0.1977, 32_h1=0.4510, 32_l2=0.2131\n"
     ]
    },
    {
     "data": {
      "text/plain": [
       "{'train_err': 3.8936821052006314,\n",
       " 'avg_loss': 0.2725577473640442,\n",
       " 'avg_lasso_loss': None,\n",
       " 'epoch_train_time': 0.43501337501220405,\n",
       " '16_h1': tensor(0.3136),\n",
       " '16_l2': tensor(0.1977),\n",
       " '32_h1': tensor(0.4510),\n",
       " '32_l2': tensor(0.2131)}"
      ]
     },
     "execution_count": 8,
     "metadata": {},
     "output_type": "execute_result"
    }
   ],
   "source": [
    "# Finally pass all of these to the Trainer\n",
    "trainer = IncrementalFNOTrainer(\n",
    "    model=model,\n",
    "    n_epochs=20,\n",
    "    data_processor=data_transform,\n",
    "    device=device,\n",
    "    verbose=True,\n",
    "    incremental_loss_gap=False,\n",
    "    incremental_grad=True,\n",
    "    incremental_grad_eps=0.9999,\n",
    "    incremental_loss_eps = 0.001,\n",
    "    incremental_buffer=5,\n",
    "    incremental_max_iter=1,\n",
    "    incremental_grad_max_iter=2,\n",
    ")\n",
    "\n",
    "trainer.train(\n",
    "    train_loader,\n",
    "    test_loaders,\n",
    "    optimizer,\n",
    "    scheduler,\n",
    "    regularizer=False,\n",
    "    training_loss=train_loss,\n",
    "    eval_losses=eval_losses,\n",
    ")"
   ]
  },
  {
   "cell_type": "code",
   "execution_count": 9,
   "id": "9d25443e",
   "metadata": {},
   "outputs": [
    {
     "name": "stderr",
     "output_type": "stream",
     "text": [
      "/var/folders/qh/c7l883gn5s548l5w18l25cwc0000gn/T/nix-shell.BE06J9/ipykernel_40504/2098455258.py:37: UserWarning: FigureCanvasAgg is non-interactive, and thus cannot be shown\n",
      "  fig.show()\n"
     ]
    },
    {
     "data": {
      "image/png": "[encoded data removed]",
      "text/plain": [
       "<Figure size 700x700 with 9 Axes>"
      ]
     },
     "metadata": {},
     "output_type": "display_data"
    }
   ],
   "source": [
    "test_samples = test_loaders[32].dataset\n",
    "\n",
    "fig = plt.figure(figsize=(7, 7))\n",
    "for index in range(3):\n",
    "    data = test_samples[index]\n",
    "    # Input x\n",
    "    x = data[\"x\"].to(device)\n",
    "    # Ground-truth\n",
    "    y = data[\"y\"].to(device)\n",
    "    # Model prediction\n",
    "    out = model(x.unsqueeze(0))\n",
    "    ax = fig.add_subplot(3, 3, index * 3 + 1)\n",
    "    x = x.cpu().squeeze().detach().numpy()\n",
    "    y = y.cpu().squeeze().detach().numpy()\n",
    "    ax.imshow(x, cmap=\"gray\")\n",
    "    if index == 0:\n",
    "        ax.set_title(\"Input x\")\n",
    "    plt.xticks([], [])\n",
    "    plt.yticks([], [])\n",
    "\n",
    "    ax = fig.add_subplot(3, 3, index * 3 + 2)\n",
    "    ax.imshow(y.squeeze())\n",
    "    if index == 0:\n",
    "        ax.set_title(\"Ground-truth y\")\n",
    "    plt.xticks([], [])\n",
    "    plt.yticks([], [])\n",
    "\n",
    "    ax = fig.add_subplot(3, 3, index * 3 + 3)\n",
    "    ax.imshow(out.cpu().squeeze().detach().numpy())\n",
    "    if index == 0:\n",
    "        ax.set_title(\"Model prediction\")\n",
    "    plt.xticks([], [])\n",
    "    plt.yticks([], [])\n",
    "\n",
    "fig.suptitle(\"Inputs, ground-truth output and prediction.\", y=0.98)\n",
    "plt.tight_layout()\n",
    "fig.show()"
   ]
  }
 ],
 "metadata": {
  "kernelspec": {
   "display_name": ".venv",
   "language": "python",
   "name": "python3"
  },
  "language_info": {
   "codemirror_mode": {
    "name": "ipython",
    "version": 3
   },
   "file_extension": ".py",
   "mimetype": "text/x-python",
   "name": "python",
   "nbconvert_exporter": "python",
   "pygments_lexer": "ipython3",
   "version": "3.12.9"
  }
 },
 "nbformat": 4,
 "nbformat_minor": 5
}
